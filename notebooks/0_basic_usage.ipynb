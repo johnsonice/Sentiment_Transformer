{
 "cells": [
  {
   "cell_type": "markdown",
   "metadata": {},
   "source": [
    "#### Basic usage of the API"
   ]
  },
  {
   "cell_type": "code",
   "execution_count": 1,
   "metadata": {},
   "outputs": [],
   "source": [
    "import torch\n",
    "from pytorch_transformers import *"
   ]
  },
  {
   "cell_type": "code",
   "execution_count": 2,
   "metadata": {},
   "outputs": [],
   "source": [
    "# PyTorch-Transformers has a unified API\n",
    "# for 6 transformer architectures and 27 pretrained weights.\n",
    "#          Model          | Tokenizer          | Pretrained weights shortcut\n",
    "MODELS = [(BertModel,       BertTokenizer,      'bert-base-uncased'),\n",
    "          (OpenAIGPTModel,  OpenAIGPTTokenizer, 'openai-gpt'),\n",
    "          (GPT2Model,       GPT2Tokenizer,      'gpt2'),\n",
    "          (TransfoXLModel,  TransfoXLTokenizer, 'transfo-xl-wt103'),\n",
    "          (XLNetModel,      XLNetTokenizer,     'xlnet-base-cased'),\n",
    "          (XLMModel,        XLMTokenizer,       'xlm-mlm-enfr-1024')]"
   ]
  },
  {
   "cell_type": "markdown",
   "metadata": {},
   "source": [
    "##### Load model and tokenizer"
   ]
  },
  {
   "cell_type": "code",
   "execution_count": 3,
   "metadata": {},
   "outputs": [
    {
     "name": "stderr",
     "output_type": "stream",
     "text": [
      "100%|██████████| 798011/798011 [00:00<00:00, 30327281.31B/s]\n",
      "100%|██████████| 641/641 [00:00<00:00, 485911.60B/s]\n",
      "100%|██████████| 467042463/467042463 [00:09<00:00, 49101349.34B/s]\n"
     ]
    }
   ],
   "source": [
    "# Let's encode some text in a sequence of hidden-states using each model:\n",
    "model_class, tokenizer_class, pretrained_weights = MODELS[4]\n",
    "# Load pretrained model/tokenizer\n",
    "tokenizer = tokenizer_class.from_pretrained(pretrained_weights)\n",
    "model = model_class.from_pretrained(pretrained_weights)\n",
    "\n",
    "# Encode text\n",
    "input_ids = torch.tensor([tokenizer.encode(\"Here is some text to encode\")])\n",
    "last_hidden_states = model(input_ids)[0]  # Models outputs are now tuples"
   ]
  },
  {
   "cell_type": "code",
   "execution_count": 5,
   "metadata": {},
   "outputs": [],
   "source": [
    "tokenizer_class.from_pretrained??"
   ]
  },
  {
   "cell_type": "code",
   "execution_count": 6,
   "metadata": {},
   "outputs": [],
   "source": [
    "# Models can return full list of hidden-states & attentions weights at each layer\n",
    "model = model_class.from_pretrained(pretrained_weights,\n",
    "                                    output_hidden_states=True,\n",
    "                                    output_attentions=True)\n",
    "input_ids = torch.tensor([tokenizer.encode(\"Let's see all hidden-states and attentions on this text\")])\n",
    "all_hidden_states, all_attentions = model(input_ids)[-2:]"
   ]
  },
  {
   "cell_type": "code",
   "execution_count": 7,
   "metadata": {},
   "outputs": [
    {
     "name": "stdout",
     "output_type": "stream",
     "text": [
      "13\n",
      "torch.Size([1, 15, 768])\n"
     ]
    }
   ],
   "source": [
    "print(len(all_hidden_states))\n",
    "print(all_hidden_states[0].shape)"
   ]
  },
  {
   "cell_type": "markdown",
   "metadata": {},
   "source": [
    "#### Simple serialization for models and tokenizers"
   ]
  },
  {
   "cell_type": "code",
   "execution_count": 13,
   "metadata": {},
   "outputs": [],
   "source": [
    "save_model_path ='../model_weights/'\n",
    "model.save_pretrained(save_model_path)  # save\n",
    "model = model_class.from_pretrained(save_model_path)  # re-load\n",
    "tokenizer.save_pretrained(save_model_path)  # save\n",
    "tokenizer = tokenizer_class.from_pretrained(save_model_path)"
   ]
  },
  {
   "cell_type": "markdown",
   "metadata": {},
   "source": [
    "#### Load a finetuned LM model"
   ]
  },
  {
   "cell_type": "code",
   "execution_count": 9,
   "metadata": {},
   "outputs": [],
   "source": [
    "# Models can return full list of hidden-states & attentions weights at each layer\n",
    "lm_model_path ='../data/LM_finetune_Macro/finetuned_lm'\n",
    "tokenizer = BertTokenizer.from_pretrained(lm_model_path)\n",
    "model_class = BertModel\n",
    "model = model_class.from_pretrained(lm_model_path,\n",
    "                                    output_hidden_states=True,\n",
    "                                    output_attentions=True)\n",
    "input_ids = torch.tensor([tokenizer.encode(\"Let's see all hidden-states and attentions on this text\")])\n",
    "all_hidden_states, all_attentions = model(input_ids)[-2:]"
   ]
  },
  {
   "cell_type": "code",
   "execution_count": 11,
   "metadata": {},
   "outputs": [
    {
     "name": "stdout",
     "output_type": "stream",
     "text": [
      "13\n",
      "torch.Size([1, 14, 768])\n"
     ]
    }
   ],
   "source": [
    "print(len(all_hidden_states))\n",
    "print(all_hidden_states[0].shape)"
   ]
  },
  {
   "cell_type": "code",
   "execution_count": null,
   "metadata": {},
   "outputs": [],
   "source": []
  }
 ],
 "metadata": {
  "kernelspec": {
   "display_name": "Python 3",
   "language": "python",
   "name": "python3"
  },
  "language_info": {
   "codemirror_mode": {
    "name": "ipython",
    "version": 3
   },
   "file_extension": ".py",
   "mimetype": "text/x-python",
   "name": "python",
   "nbconvert_exporter": "python",
   "pygments_lexer": "ipython3",
   "version": "3.7.0"
  }
 },
 "nbformat": 4,
 "nbformat_minor": 2
}
